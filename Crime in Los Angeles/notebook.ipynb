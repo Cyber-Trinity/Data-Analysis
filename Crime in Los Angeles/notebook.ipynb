{
  "cells": [
    {
      "cell_type": "markdown",
      "id": "31ab2131-3049-4d8d-b9dc-d195f72af27a",
      "metadata": {},
      "source": [
        "# Crime Data Analysis in Los Angeles\n",
        "\n",
        "## Desciption\n",
        "A summary and preview of the dataset is given provided below.\n",
        "<br>\n",
        "It is a modified version of the original data, which is publicly available from Los Angeles Open Data.\n",
        "\n",
        "## Dataset\n",
        "\n",
        "| Column     | Description              |\n",
        "|------------|--------------------------|\n",
        "| `'DR_NO'` | Division of Records Number: Official file number made up of a 2-digit year, area ID, and 5 digits. |\n",
        "| `'Date Rptd'` | Date reported - MM/DD/YYYY. |\n",
        "| `'DATE OCC'` | Date of occurrence - MM/DD/YYYY. |\n",
        "| `'TIME OCC'` | In 24-hour military time. |\n",
        "| `'AREA NAME'` | The 21 Geographic Areas or Patrol Divisions are also given a name designation that references a landmark or the surrounding community that it is responsible for. For example, the 77th Street Division is located at the intersection of South Broadway and 77th Street, serving neighborhoods in South Los Angeles. |\n",
        "| `'Crm Cd Desc'` | Indicates the crime committed. |\n",
        "| `'Vict Age'` | Victim's age in years. |\n",
        "| `'Vict Sex'` | Victim's sex: `F`: Female, `M`: Male, `X`: Unknown. |\n",
        "| `'Vict Descent'` | Victim's descent:<ul><li>`A` - Other Asian</li><li>`B` - Black</li><li>`C` - Chinese</li><li>`D` - Cambodian</li><li>`F` - Filipino</li><li>`G` - Guamanian</li><li>`H` - Hispanic/Latin/Mexican</li><li>`I` - American Indian/Alaskan Native</li><li>`J` - Japanese</li><li>`K` - Korean</li><li>`L` - Laotian</li><li>`O` - Other</li><li>`P` - Pacific Islander</li><li>`S` - Samoan</li><li>`U` - Hawaiian</li><li>`V` - Vietnamese</li><li>`W` - White</li><li>`X` - Unknown</li><li>`Z` - Asian Indian</li> |\n",
        "| `'Weapon Desc'` | Description of the weapon used (if applicable). |\n",
        "| `'Status Desc'` | Crime status. |\n",
        "| `'LOCATION'` | Street address of the crime. |"
      ]
    },
    {
      "cell_type": "markdown",
      "id": "a6facf00",
      "metadata": {},
      "source": [
        "## Data Import\n",
        "In this section, we import the necessary Python libraries, load the dataset, and perform a quick summary to understand its structure and key characteristics.\n"
      ]
    },
    {
      "cell_type": "markdown",
      "id": "a5984ebc",
      "metadata": {},
      "source": [
        "### Required libraries"
      ]
    },
    {
      "cell_type": "code",
      "execution_count": 61,
      "id": "7c6c3c36-5c8b-4cce-8681-95292b8f0861",
      "metadata": {
        "ExecuteTime": {
          "end_time": "2024-04-25T11:50:36.419532Z",
          "start_time": "2024-04-25T11:50:32.651416Z"
        },
        "executionCancelledAt": null,
        "executionTime": 413,
        "lastExecutedAt": 1712065925214,
        "lastScheduledRunId": null,
        "lastSuccessfullyExecutedCode": "# Re-run this cell\n# Import required libraries\nimport pandas as pd\nimport numpy as np\nimport matplotlib.pyplot as plt\nimport seaborn as sns\ncrimes = pd.read_csv(\"crimes.csv\", parse_dates=[\"Date Rptd\", \"DATE OCC\"], dtype={\"TIME OCC\": str})\ncrimes.head()",
        "outputsMetadata": {
          "0": {
            "height": 211,
            "type": "dataFrame"
          }
        }
      },
      "outputs": [
        {
          "name": "stdout",
          "output_type": "stream",
          "text": [
            "Operation completed successfully ✅\n"
          ]
        }
      ],
      "source": [
        "### Import required libraries\n",
        "import pandas as pd\n",
        "import numpy as np\n",
        "import matplotlib.pyplot as plt\n",
        "import seaborn as sns\n",
        "\n",
        "print(\"Operation completed successfully ✅\")"
      ]
    },
    {
      "cell_type": "markdown",
      "id": "36593381",
      "metadata": {},
      "source": [
        "#### Data loading"
      ]
    },
    {
      "cell_type": "code",
      "execution_count": 62,
      "id": "53eada96-447c-46c3-9848-f4ca3de53d06",
      "metadata": {
        "ExecuteTime": {
          "end_time": "2024-04-25T11:50:36.431797Z",
          "start_time": "2024-04-25T11:50:36.423547Z"
        }
      },
      "outputs": [
        {
          "name": "stdout",
          "output_type": "stream",
          "text": [
            "Operation completed successfully ✅\n"
          ]
        }
      ],
      "source": [
        "# Load the dataset\n",
        "df = pd.read_csv(\"src/crimes.csv\") # , parse_dates=[\"Date Rptd\", \"DATE OCC\"], dtype={\"TIME OCC\": str}\n",
        "\n",
        "print(\"Operation completed successfully ✅\")"
      ]
    },
    {
      "cell_type": "markdown",
      "id": "c0d77218",
      "metadata": {},
      "source": [
        "## Inspection and Validation"
      ]
    },
    {
      "cell_type": "markdown",
      "id": "36f39ac2",
      "metadata": {},
      "source": [
        "### Initial exploration"
      ]
    },
    {
      "cell_type": "code",
      "execution_count": 63,
      "id": "46d054c9",
      "metadata": {},
      "outputs": [
        {
          "name": "stdout",
          "output_type": "stream",
          "text": [
            "Number of rows:185715\n",
            "Number of  columns: 12\n"
          ]
        }
      ],
      "source": [
        "# Dataframe shape (Row x Columns)\n",
        "print(f\"Number of rows:{df.shape[0]}\\nNumber of  columns: {df.shape[1]}\")\n"
      ]
    },
    {
      "cell_type": "code",
      "execution_count": 64,
      "id": "7b9cfda0",
      "metadata": {},
      "outputs": [
        {
          "name": "stdout",
          "output_type": "stream",
          "text": [
            "<class 'pandas.core.frame.DataFrame'>\n",
            "RangeIndex: 185715 entries, 0 to 185714\n",
            "Data columns (total 12 columns):\n",
            " #   Column        Non-Null Count   Dtype \n",
            "---  ------        --------------   ----- \n",
            " 0   DR_NO         185715 non-null  int64 \n",
            " 1   Date Rptd     185715 non-null  object\n",
            " 2   DATE OCC      185715 non-null  object\n",
            " 3   TIME OCC      185715 non-null  int64 \n",
            " 4   AREA NAME     185715 non-null  object\n",
            " 5   Crm Cd Desc   185715 non-null  object\n",
            " 6   Vict Age      185715 non-null  int64 \n",
            " 7   Vict Sex      185704 non-null  object\n",
            " 8   Vict Descent  185705 non-null  object\n",
            " 9   Weapon Desc   73502 non-null   object\n",
            " 10  Status Desc   185715 non-null  object\n",
            " 11  LOCATION      185715 non-null  object\n",
            "dtypes: int64(3), object(9)\n",
            "memory usage: 17.0+ MB\n"
          ]
        }
      ],
      "source": [
        "# General summary\n",
        "df.info()"
      ]
    },
    {
      "cell_type": "code",
      "execution_count": 65,
      "id": "ed283d71",
      "metadata": {},
      "outputs": [
        {
          "data": {
            "application/vnd.microsoft.datawrangler.viewer.v0+json": {
              "columns": [
                {
                  "name": "index",
                  "rawType": "int64",
                  "type": "integer"
                },
                {
                  "name": "DR_NO",
                  "rawType": "int64",
                  "type": "integer"
                },
                {
                  "name": "Date Rptd",
                  "rawType": "object",
                  "type": "string"
                },
                {
                  "name": "DATE OCC",
                  "rawType": "object",
                  "type": "string"
                },
                {
                  "name": "TIME OCC",
                  "rawType": "int64",
                  "type": "integer"
                },
                {
                  "name": "AREA NAME",
                  "rawType": "object",
                  "type": "string"
                },
                {
                  "name": "Crm Cd Desc",
                  "rawType": "object",
                  "type": "string"
                },
                {
                  "name": "Vict Age",
                  "rawType": "int64",
                  "type": "integer"
                },
                {
                  "name": "Vict Sex",
                  "rawType": "object",
                  "type": "string"
                },
                {
                  "name": "Vict Descent",
                  "rawType": "object",
                  "type": "string"
                },
                {
                  "name": "Weapon Desc",
                  "rawType": "object",
                  "type": "unknown"
                },
                {
                  "name": "Status Desc",
                  "rawType": "object",
                  "type": "string"
                },
                {
                  "name": "LOCATION",
                  "rawType": "object",
                  "type": "string"
                }
              ],
              "ref": "348c3d42-c167-4b85-8697-46c3abc85815",
              "rows": [
                [
                  "0",
                  "220314085",
                  "2022-07-22",
                  "2020-05-12",
                  "1110",
                  "Southwest",
                  "THEFT OF IDENTITY",
                  "27",
                  "F",
                  "B",
                  null,
                  "Invest Cont",
                  "2500 S  SYCAMORE                     AV"
                ],
                [
                  "1",
                  "222013040",
                  "2022-08-06",
                  "2020-06-04",
                  "1620",
                  "Olympic",
                  "THEFT OF IDENTITY",
                  "60",
                  "M",
                  "H",
                  null,
                  "Invest Cont",
                  "3300    SAN MARINO                   ST"
                ],
                [
                  "2",
                  "220614831",
                  "2022-08-18",
                  "2020-08-17",
                  "1200",
                  "Hollywood",
                  "THEFT OF IDENTITY",
                  "28",
                  "M",
                  "H",
                  null,
                  "Invest Cont",
                  "1900    TRANSIENT"
                ],
                [
                  "3",
                  "231207725",
                  "2023-02-27",
                  "2020-01-27",
                  "635",
                  "77th Street",
                  "THEFT OF IDENTITY",
                  "37",
                  "M",
                  "H",
                  null,
                  "Invest Cont",
                  "6200    4TH                          AV"
                ],
                [
                  "4",
                  "220213256",
                  "2022-07-14",
                  "2020-07-14",
                  "900",
                  "Rampart",
                  "THEFT OF IDENTITY",
                  "79",
                  "M",
                  "B",
                  null,
                  "Invest Cont",
                  "1200 W  7TH                          ST"
                ]
              ],
              "shape": {
                "columns": 12,
                "rows": 5
              }
            },
            "text/html": [
              "<div>\n",
              "<style scoped>\n",
              "    .dataframe tbody tr th:only-of-type {\n",
              "        vertical-align: middle;\n",
              "    }\n",
              "\n",
              "    .dataframe tbody tr th {\n",
              "        vertical-align: top;\n",
              "    }\n",
              "\n",
              "    .dataframe thead th {\n",
              "        text-align: right;\n",
              "    }\n",
              "</style>\n",
              "<table border=\"1\" class=\"dataframe\">\n",
              "  <thead>\n",
              "    <tr style=\"text-align: right;\">\n",
              "      <th></th>\n",
              "      <th>DR_NO</th>\n",
              "      <th>Date Rptd</th>\n",
              "      <th>DATE OCC</th>\n",
              "      <th>TIME OCC</th>\n",
              "      <th>AREA NAME</th>\n",
              "      <th>Crm Cd Desc</th>\n",
              "      <th>Vict Age</th>\n",
              "      <th>Vict Sex</th>\n",
              "      <th>Vict Descent</th>\n",
              "      <th>Weapon Desc</th>\n",
              "      <th>Status Desc</th>\n",
              "      <th>LOCATION</th>\n",
              "    </tr>\n",
              "  </thead>\n",
              "  <tbody>\n",
              "    <tr>\n",
              "      <th>0</th>\n",
              "      <td>220314085</td>\n",
              "      <td>2022-07-22</td>\n",
              "      <td>2020-05-12</td>\n",
              "      <td>1110</td>\n",
              "      <td>Southwest</td>\n",
              "      <td>THEFT OF IDENTITY</td>\n",
              "      <td>27</td>\n",
              "      <td>F</td>\n",
              "      <td>B</td>\n",
              "      <td>NaN</td>\n",
              "      <td>Invest Cont</td>\n",
              "      <td>2500 S  SYCAMORE                     AV</td>\n",
              "    </tr>\n",
              "    <tr>\n",
              "      <th>1</th>\n",
              "      <td>222013040</td>\n",
              "      <td>2022-08-06</td>\n",
              "      <td>2020-06-04</td>\n",
              "      <td>1620</td>\n",
              "      <td>Olympic</td>\n",
              "      <td>THEFT OF IDENTITY</td>\n",
              "      <td>60</td>\n",
              "      <td>M</td>\n",
              "      <td>H</td>\n",
              "      <td>NaN</td>\n",
              "      <td>Invest Cont</td>\n",
              "      <td>3300    SAN MARINO                   ST</td>\n",
              "    </tr>\n",
              "    <tr>\n",
              "      <th>2</th>\n",
              "      <td>220614831</td>\n",
              "      <td>2022-08-18</td>\n",
              "      <td>2020-08-17</td>\n",
              "      <td>1200</td>\n",
              "      <td>Hollywood</td>\n",
              "      <td>THEFT OF IDENTITY</td>\n",
              "      <td>28</td>\n",
              "      <td>M</td>\n",
              "      <td>H</td>\n",
              "      <td>NaN</td>\n",
              "      <td>Invest Cont</td>\n",
              "      <td>1900    TRANSIENT</td>\n",
              "    </tr>\n",
              "    <tr>\n",
              "      <th>3</th>\n",
              "      <td>231207725</td>\n",
              "      <td>2023-02-27</td>\n",
              "      <td>2020-01-27</td>\n",
              "      <td>635</td>\n",
              "      <td>77th Street</td>\n",
              "      <td>THEFT OF IDENTITY</td>\n",
              "      <td>37</td>\n",
              "      <td>M</td>\n",
              "      <td>H</td>\n",
              "      <td>NaN</td>\n",
              "      <td>Invest Cont</td>\n",
              "      <td>6200    4TH                          AV</td>\n",
              "    </tr>\n",
              "    <tr>\n",
              "      <th>4</th>\n",
              "      <td>220213256</td>\n",
              "      <td>2022-07-14</td>\n",
              "      <td>2020-07-14</td>\n",
              "      <td>900</td>\n",
              "      <td>Rampart</td>\n",
              "      <td>THEFT OF IDENTITY</td>\n",
              "      <td>79</td>\n",
              "      <td>M</td>\n",
              "      <td>B</td>\n",
              "      <td>NaN</td>\n",
              "      <td>Invest Cont</td>\n",
              "      <td>1200 W  7TH                          ST</td>\n",
              "    </tr>\n",
              "  </tbody>\n",
              "</table>\n",
              "</div>"
            ],
            "text/plain": [
              "       DR_NO   Date Rptd    DATE OCC  TIME OCC    AREA NAME  \\\n",
              "0  220314085  2022-07-22  2020-05-12      1110    Southwest   \n",
              "1  222013040  2022-08-06  2020-06-04      1620      Olympic   \n",
              "2  220614831  2022-08-18  2020-08-17      1200    Hollywood   \n",
              "3  231207725  2023-02-27  2020-01-27       635  77th Street   \n",
              "4  220213256  2022-07-14  2020-07-14       900      Rampart   \n",
              "\n",
              "         Crm Cd Desc  Vict Age Vict Sex Vict Descent Weapon Desc  Status Desc  \\\n",
              "0  THEFT OF IDENTITY        27        F            B         NaN  Invest Cont   \n",
              "1  THEFT OF IDENTITY        60        M            H         NaN  Invest Cont   \n",
              "2  THEFT OF IDENTITY        28        M            H         NaN  Invest Cont   \n",
              "3  THEFT OF IDENTITY        37        M            H         NaN  Invest Cont   \n",
              "4  THEFT OF IDENTITY        79        M            B         NaN  Invest Cont   \n",
              "\n",
              "                                  LOCATION  \n",
              "0  2500 S  SYCAMORE                     AV  \n",
              "1  3300    SAN MARINO                   ST  \n",
              "2                        1900    TRANSIENT  \n",
              "3  6200    4TH                          AV  \n",
              "4  1200 W  7TH                          ST  "
            ]
          },
          "execution_count": 65,
          "metadata": {},
          "output_type": "execute_result"
        }
      ],
      "source": [
        "# Display the first few rows of the dataset\n",
        "df.head()"
      ]
    },
    {
      "cell_type": "markdown",
      "id": "8069af04",
      "metadata": {},
      "source": [
        "### Handling missing values"
      ]
    },
    {
      "cell_type": "code",
      "execution_count": 66,
      "id": "37e3b65c",
      "metadata": {},
      "outputs": [
        {
          "data": {
            "application/vnd.microsoft.datawrangler.viewer.v0+json": {
              "columns": [
                {
                  "name": "index",
                  "rawType": "object",
                  "type": "string"
                },
                {
                  "name": "0",
                  "rawType": "bool",
                  "type": "boolean"
                }
              ],
              "ref": "f59216ba-d2dc-4bd5-8883-2f6eeb7c94e3",
              "rows": [
                [
                  "DR_NO",
                  "False"
                ],
                [
                  "Date Rptd",
                  "False"
                ],
                [
                  "DATE OCC",
                  "False"
                ],
                [
                  "TIME OCC",
                  "False"
                ],
                [
                  "AREA NAME",
                  "False"
                ],
                [
                  "Crm Cd Desc",
                  "False"
                ],
                [
                  "Vict Age",
                  "False"
                ],
                [
                  "Vict Sex",
                  "True"
                ],
                [
                  "Vict Descent",
                  "True"
                ],
                [
                  "Weapon Desc",
                  "True"
                ],
                [
                  "Status Desc",
                  "False"
                ],
                [
                  "LOCATION",
                  "False"
                ]
              ],
              "shape": {
                "columns": 1,
                "rows": 12
              }
            },
            "text/plain": [
              "DR_NO           False\n",
              "Date Rptd       False\n",
              "DATE OCC        False\n",
              "TIME OCC        False\n",
              "AREA NAME       False\n",
              "Crm Cd Desc     False\n",
              "Vict Age        False\n",
              "Vict Sex         True\n",
              "Vict Descent     True\n",
              "Weapon Desc      True\n",
              "Status Desc     False\n",
              "LOCATION        False\n",
              "dtype: bool"
            ]
          },
          "execution_count": 66,
          "metadata": {},
          "output_type": "execute_result"
        }
      ],
      "source": [
        "# Check the presence of missing values\n",
        "df.isna().any()"
      ]
    },
    {
      "cell_type": "code",
      "execution_count": 67,
      "id": "96a2c251",
      "metadata": {},
      "outputs": [
        {
          "data": {
            "application/vnd.microsoft.datawrangler.viewer.v0+json": {
              "columns": [
                {
                  "name": "index",
                  "rawType": "object",
                  "type": "string"
                },
                {
                  "name": "0",
                  "rawType": "float64",
                  "type": "float"
                }
              ],
              "ref": "0ee35f7f-9a8a-436a-894e-ce415efd53a7",
              "rows": [
                [
                  "DR_NO",
                  "0.0"
                ],
                [
                  "Date Rptd",
                  "0.0"
                ],
                [
                  "DATE OCC",
                  "0.0"
                ],
                [
                  "TIME OCC",
                  "0.0"
                ],
                [
                  "AREA NAME",
                  "0.0"
                ],
                [
                  "Crm Cd Desc",
                  "0.0"
                ],
                [
                  "Vict Age",
                  "0.0"
                ],
                [
                  "Vict Sex",
                  "0.005923054142099453"
                ],
                [
                  "Vict Descent",
                  "0.005384594674635867"
                ],
                [
                  "Weapon Desc",
                  "60.422152222491455"
                ],
                [
                  "Status Desc",
                  "0.0"
                ],
                [
                  "LOCATION",
                  "0.0"
                ]
              ],
              "shape": {
                "columns": 1,
                "rows": 12
              }
            },
            "text/plain": [
              "DR_NO            0.000000\n",
              "Date Rptd        0.000000\n",
              "DATE OCC         0.000000\n",
              "TIME OCC         0.000000\n",
              "AREA NAME        0.000000\n",
              "Crm Cd Desc      0.000000\n",
              "Vict Age         0.000000\n",
              "Vict Sex         0.005923\n",
              "Vict Descent     0.005385\n",
              "Weapon Desc     60.422152\n",
              "Status Desc      0.000000\n",
              "LOCATION         0.000000\n",
              "dtype: float64"
            ]
          },
          "execution_count": 67,
          "metadata": {},
          "output_type": "execute_result"
        }
      ],
      "source": [
        "# Check percentage of missing data per column\n",
        "df.isnull().mean() * 100"
      ]
    },
    {
      "cell_type": "code",
      "execution_count": 68,
      "id": "fcfbccec",
      "metadata": {},
      "outputs": [
        {
          "name": "stdout",
          "output_type": "stream",
          "text": [
            "Operation completed successfully ✅\n"
          ]
        }
      ],
      "source": [
        "# Replace the missing values in 'Vict Sex' and 'Vict Descent' with their mode\n",
        "df['Vict Sex'] = df['Vict Sex'].fillna(df['Vict Sex'].mode()[0])\n",
        "df['Vict Descent'] = df['Vict Descent'].fillna(df['Vict Descent'].mode()[0])\n",
        "\n",
        "# Replace the missing values in '\"Weapon Desc\"' with 'Unknown'\n",
        "df['Weapon Desc'] = df['Weapon Desc'].fillna('Unknown')\n",
        "\n",
        "print(\"Operation completed successfully ✅\")"
      ]
    },
    {
      "cell_type": "code",
      "execution_count": 69,
      "id": "52b4dec3",
      "metadata": {},
      "outputs": [
        {
          "data": {
            "application/vnd.microsoft.datawrangler.viewer.v0+json": {
              "columns": [
                {
                  "name": "index",
                  "rawType": "object",
                  "type": "string"
                },
                {
                  "name": "0",
                  "rawType": "int64",
                  "type": "integer"
                }
              ],
              "ref": "eb3394ff-cc48-4f05-8ba1-eac6f16a764f",
              "rows": [
                [
                  "DR_NO",
                  "0"
                ],
                [
                  "Date Rptd",
                  "0"
                ],
                [
                  "DATE OCC",
                  "0"
                ],
                [
                  "TIME OCC",
                  "0"
                ],
                [
                  "AREA NAME",
                  "0"
                ],
                [
                  "Crm Cd Desc",
                  "0"
                ],
                [
                  "Vict Age",
                  "0"
                ],
                [
                  "Vict Sex",
                  "0"
                ],
                [
                  "Vict Descent",
                  "0"
                ],
                [
                  "Weapon Desc",
                  "0"
                ],
                [
                  "Status Desc",
                  "0"
                ],
                [
                  "LOCATION",
                  "0"
                ]
              ],
              "shape": {
                "columns": 1,
                "rows": 12
              }
            },
            "text/plain": [
              "DR_NO           0\n",
              "Date Rptd       0\n",
              "DATE OCC        0\n",
              "TIME OCC        0\n",
              "AREA NAME       0\n",
              "Crm Cd Desc     0\n",
              "Vict Age        0\n",
              "Vict Sex        0\n",
              "Vict Descent    0\n",
              "Weapon Desc     0\n",
              "Status Desc     0\n",
              "LOCATION        0\n",
              "dtype: int64"
            ]
          },
          "execution_count": 69,
          "metadata": {},
          "output_type": "execute_result"
        }
      ],
      "source": [
        "# Display the total number of missing values per columns\n",
        "df.isna().sum()"
      ]
    },
    {
      "cell_type": "markdown",
      "id": "5679e46c",
      "metadata": {},
      "source": [
        "### Handle date and time series"
      ]
    },
    {
      "cell_type": "code",
      "execution_count": 70,
      "id": "a6b47606",
      "metadata": {},
      "outputs": [
        {
          "name": "stdout",
          "output_type": "stream",
          "text": [
            "Operation completed successfully ✅\n"
          ]
        }
      ],
      "source": [
        "#Convert date columns to datetime objects\n",
        "df['Date Rptd'] = pd.to_datetime(df['Date Rptd'])\n",
        "df['DATE OCC'] = pd.to_datetime(df['DATE OCC'])\n",
        "\n",
        "print(\"Operation completed successfully ✅\")"
      ]
    },
    {
      "cell_type": "code",
      "execution_count": 71,
      "id": "b43d8e01",
      "metadata": {},
      "outputs": [
        {
          "name": "stdout",
          "output_type": "stream",
          "text": [
            "Operation completed successfully ✅\n"
          ]
        }
      ],
      "source": [
        "#Convert time columns to datetime objects\n",
        "df['TIME OCC'] = df['TIME OCC'].astype(str).str.zfill(4)\n",
        "\n",
        "df['TIME OCC'] = pd.to_datetime(df['TIME OCC'], format='%H%M').dt.time\n",
        "\n",
        "\n",
        "print(\"Operation completed successfully ✅\")"
      ]
    },
    {
      "cell_type": "code",
      "execution_count": 72,
      "id": "6348943f",
      "metadata": {},
      "outputs": [
        {
          "name": "stdout",
          "output_type": "stream",
          "text": [
            "Operation completed successfully ✅\n"
          ]
        }
      ],
      "source": [
        "# Extract useful time-based features\n",
        "\n",
        "df['Year'] = df['DATE OCC'].dt.year\n",
        "df['Month'] = df['DATE OCC'].dt.month\n",
        "df['DayOfWeek'] = df['DATE OCC'].dt.day_name()\n",
        "df['Hour'] = df['TIME OCC'].apply(lambda x: x.hour)\n",
        "\n",
        "\n",
        "print(\"Operation completed successfully ✅\")"
      ]
    },
    {
      "cell_type": "markdown",
      "id": "b270b7d0",
      "metadata": {},
      "source": [
        "### Data Consistency Check in Categorical Columns"
      ]
    },
    {
      "cell_type": "markdown",
      "id": "9bfa15e1",
      "metadata": {},
      "source": [
        "**AREA NAME**"
      ]
    },
    {
      "cell_type": "code",
      "execution_count": 73,
      "id": "4f5cff23",
      "metadata": {},
      "outputs": [
        {
          "name": "stdout",
          "output_type": "stream",
          "text": [
            "Total number of unique values:21\n",
            "\n",
            "Percentage distribution in 'AREA NAME':\n",
            "AREA NAME\n",
            "Central        8.05\n",
            "Southwest      6.43\n",
            "77th Street    6.32\n",
            "Pacific        5.34\n",
            "Hollywood      5.26\n",
            "Southeast      5.15\n",
            "Olympic        5.07\n",
            "Newton         4.93\n",
            "Van Nuys       4.64\n",
            "N Hollywood    4.58\n",
            "Wilshire       4.57\n",
            "Topanga        4.57\n",
            "Rampart        4.49\n",
            "West Valley    4.36\n",
            "West LA        4.26\n",
            "Northeast      4.11\n",
            "Devonshire     3.99\n",
            "Mission        3.76\n",
            "Harbor         3.56\n",
            "Hollenbeck     3.33\n",
            "Foothill       3.22\n",
            "Name: proportion, dtype: float64\n"
          ]
        }
      ],
      "source": [
        "# Check total number of unique values\n",
        "print(f\"Total number of unique values:{df['AREA NAME'].nunique()}\")\n",
        "\n",
        "# Check percentage distribution\n",
        "print(\"\\nPercentage distribution in 'AREA NAME':\")\n",
        "print((df['AREA NAME'].value_counts(normalize=True, dropna=False) * 100).round(2))\n"
      ]
    },
    {
      "cell_type": "markdown",
      "id": "6301b991",
      "metadata": {},
      "source": [
        "**Crm Cd Desc**"
      ]
    },
    {
      "cell_type": "code",
      "execution_count": 74,
      "id": "21c8a93f",
      "metadata": {},
      "outputs": [
        {
          "name": "stdout",
          "output_type": "stream",
          "text": [
            "Total number of unique values:104\n",
            "\n",
            "Percentage distribution in 'Crm Cd Desc':\n",
            "Crm Cd Desc\n",
            "THEFT OF IDENTITY                                 12.21\n",
            "BATTERY - SIMPLE ASSAULT                          10.60\n",
            "BURGLARY FROM VEHICLE                              7.43\n",
            "ASSAULT WITH DEADLY WEAPON, AGGRAVATED ASSAULT     7.12\n",
            "INTIMATE PARTNER - SIMPLE ASSAULT                  6.45\n",
            "                                                  ...  \n",
            "BRIBERY                                            0.00\n",
            "GRAND THEFT / INSURANCE FRAUD                      0.00\n",
            "TILL TAP - GRAND THEFT ($950.01 & OVER)            0.00\n",
            "DISHONEST EMPLOYEE ATTEMPTED THEFT                 0.00\n",
            "LYNCHING                                           0.00\n",
            "Name: proportion, Length: 104, dtype: float64\n"
          ]
        }
      ],
      "source": [
        "# Check total number of unique values\n",
        "print(f\"Total number of unique values:{df['Crm Cd Desc'].nunique()}\")\n",
        "\n",
        "\n",
        "# Check percentage distribution\n",
        "print(\"\\nPercentage distribution in 'Crm Cd Desc':\")\n",
        "print((df['Crm Cd Desc'].value_counts(normalize=True, dropna=False) * 100).round(2))"
      ]
    },
    {
      "cell_type": "markdown",
      "id": "0aadf21f",
      "metadata": {},
      "source": [
        "**Vict Sex**"
      ]
    },
    {
      "cell_type": "code",
      "execution_count": 75,
      "id": "9dbde054",
      "metadata": {},
      "outputs": [
        {
          "name": "stdout",
          "output_type": "stream",
          "text": [
            "Total number of unique values:4\n",
            "\n",
            "Percentage distribution in 'Vict Sex':\n",
            "Vict Sex\n",
            "M    50.09\n",
            "F    48.38\n",
            "X     1.51\n",
            "H     0.02\n",
            "Name: proportion, dtype: float64\n"
          ]
        }
      ],
      "source": [
        "# Check total number of unique values\n",
        "print(f\"Total number of unique values:{df['Vict Sex'].nunique()}\")\n",
        "\n",
        "# Check percentage distribution\n",
        "print(\"\\nPercentage distribution in 'Vict Sex':\")\n",
        "print((df['Vict Sex'].value_counts(normalize=True, dropna=False) * 100).round(2))\n"
      ]
    },
    {
      "cell_type": "code",
      "execution_count": 76,
      "id": "d6538d5a",
      "metadata": {},
      "outputs": [
        {
          "name": "stdout",
          "output_type": "stream",
          "text": [
            "Operation completed successfully ✅\n"
          ]
        }
      ],
      "source": [
        "# update 'H' values to unknown 'X'\n",
        "df['Vict Sex'] = df['Vict Sex'].replace('H', 'X')\n",
        "\n",
        "print(\"Operation completed successfully ✅\")"
      ]
    },
    {
      "cell_type": "code",
      "execution_count": 77,
      "id": "0cd7683f",
      "metadata": {},
      "outputs": [
        {
          "name": "stdout",
          "output_type": "stream",
          "text": [
            "Percentage distribution\n",
            "Vict Sex\n",
            "M    50.09\n",
            "F    48.38\n",
            "X     1.53\n",
            "Name: proportion, dtype: float64\n"
          ]
        }
      ],
      "source": [
        "print(\"Percentage distribution\")\n",
        "print((df['Vict Sex'].value_counts(normalize=True, dropna=False) * 100).round(2))\n"
      ]
    },
    {
      "cell_type": "markdown",
      "id": "a78b332a",
      "metadata": {},
      "source": [
        "**Vict Descent**"
      ]
    },
    {
      "cell_type": "code",
      "execution_count": 78,
      "id": "e8f46dd7",
      "metadata": {},
      "outputs": [
        {
          "name": "stdout",
          "output_type": "stream",
          "text": [
            "Total number of unique values:20\n",
            "\n",
            "Percentage distribution in 'Vict Descent':\n",
            "Vict Descent\n",
            "H    39.92\n",
            "W    24.22\n",
            "B    18.81\n",
            "O     8.79\n",
            "A     2.97\n",
            "X     2.45\n",
            "K     0.75\n",
            "F     0.66\n",
            "C     0.65\n",
            "J     0.23\n",
            "V     0.18\n",
            "I     0.17\n",
            "Z     0.08\n",
            "P     0.04\n",
            "U     0.03\n",
            "D     0.01\n",
            "L     0.01\n",
            "S     0.01\n",
            "G     0.01\n",
            "-     0.00\n",
            "Name: proportion, dtype: float64\n"
          ]
        }
      ],
      "source": [
        "# Check total number of unique values\n",
        "print(f\"Total number of unique values:{df['Vict Descent'].nunique()}\")\n",
        "\n",
        "# Check percentage distribution\n",
        "print(\"\\nPercentage distribution in 'Vict Descent':\")\n",
        "print((df['Vict Descent'].value_counts(normalize=True, dropna=False) * 100).round(2))\n"
      ]
    },
    {
      "cell_type": "code",
      "execution_count": 79,
      "id": "4a6ef815",
      "metadata": {},
      "outputs": [
        {
          "name": "stdout",
          "output_type": "stream",
          "text": [
            "Operation completed successfully ✅\n"
          ]
        }
      ],
      "source": [
        "# update '-' values to unknown 'X'\n",
        "df['Vict Descent'] = df['Vict Descent'].replace('-', 'X')\n",
        "\n",
        "print(\"Operation completed successfully ✅\")"
      ]
    },
    {
      "cell_type": "code",
      "execution_count": 80,
      "id": "e8da7c8e",
      "metadata": {},
      "outputs": [
        {
          "name": "stdout",
          "output_type": "stream",
          "text": [
            "Total number of unique values:19\n"
          ]
        }
      ],
      "source": [
        "# Check total number of unique values\n",
        "print(f\"Total number of unique values:{df['Vict Descent'].nunique()}\")"
      ]
    },
    {
      "cell_type": "markdown",
      "id": "6cb754af",
      "metadata": {},
      "source": [
        "**Weapon Desc**"
      ]
    },
    {
      "cell_type": "code",
      "execution_count": 81,
      "id": "e43b0950",
      "metadata": {},
      "outputs": [
        {
          "name": "stdout",
          "output_type": "stream",
          "text": [
            "Total number of unique values:75\n",
            "\n",
            "Percentage distribution in 'Weapon Desc':\n",
            "Weapon Desc\n",
            "Unknown                                           60.42\n",
            "STRONG-ARM (HANDS, FIST, FEET OR BODILY FORCE)    21.48\n",
            "UNKNOWN WEAPON/OTHER WEAPON                        3.97\n",
            "VERBAL THREAT                                      3.17\n",
            "HAND GUN                                           2.37\n",
            "                                                  ...  \n",
            "ANTIQUE FIREARM                                    0.00\n",
            "RELIC FIREARM                                      0.00\n",
            "M-14 SEMIAUTOMATIC ASSAULT RIFLE                   0.00\n",
            "BOWIE KNIFE                                        0.00\n",
            "MAC-10 SEMIAUTOMATIC ASSAULT WEAPON                0.00\n",
            "Name: proportion, Length: 75, dtype: float64\n"
          ]
        }
      ],
      "source": [
        "# Check total number of unique values\n",
        "print(f\"Total number of unique values:{df['Weapon Desc'].nunique()}\")\n",
        "\n",
        "# Check percentage distribution\n",
        "print(\"\\nPercentage distribution in 'Weapon Desc':\")\n",
        "print((df['Weapon Desc'].value_counts(normalize=True, dropna=False) * 100).round(2))\n"
      ]
    },
    {
      "cell_type": "code",
      "execution_count": 82,
      "id": "60415776",
      "metadata": {},
      "outputs": [
        {
          "name": "stdout",
          "output_type": "stream",
          "text": [
            "Operation completed successfully ✅\n"
          ]
        }
      ],
      "source": [
        "# update 'Unknown' values to 'UNKNOWN WEAPON/OTHER WEAPON'\n",
        "df['Weapon Desc'] = df['Weapon Desc'].replace('Unknown', 'UNKNOWN WEAPON/OTHER WEAPON')\n",
        "\n",
        "print(\"Operation completed successfully ✅\")"
      ]
    },
    {
      "cell_type": "code",
      "execution_count": 83,
      "id": "1ddd8d04",
      "metadata": {},
      "outputs": [
        {
          "name": "stdout",
          "output_type": "stream",
          "text": [
            "Total number of unique values:74\n"
          ]
        }
      ],
      "source": [
        "# Check total number of unique values\n",
        "print(f\"Total number of unique values:{df['Weapon Desc'].nunique()}\")"
      ]
    },
    {
      "cell_type": "markdown",
      "id": "54ececb7",
      "metadata": {},
      "source": [
        "**Status Desc**"
      ]
    },
    {
      "cell_type": "code",
      "execution_count": 84,
      "id": "81168669",
      "metadata": {},
      "outputs": [
        {
          "name": "stdout",
          "output_type": "stream",
          "text": [
            "Total number of unique values:6\n",
            "\n",
            "Percentage distribution in 'Status Desc':\n",
            "Status Desc\n",
            "Invest Cont     82.81\n",
            "Adult Other      9.54\n",
            "Adult Arrest     7.21\n",
            "Juv Arrest       0.26\n",
            "Juv Other        0.17\n",
            "UNK              0.00\n",
            "Name: proportion, dtype: float64\n"
          ]
        }
      ],
      "source": [
        "# Check total number of unique values\n",
        "print(f\"Total number of unique values:{df['Status Desc'].nunique()}\")\n",
        "\n",
        "# Check percentage distribution\n",
        "print(\"\\nPercentage distribution in 'Status Desc':\")\n",
        "print((df['Status Desc'].value_counts(normalize=True, dropna=False) * 100).round(2))\n"
      ]
    },
    {
      "cell_type": "markdown",
      "id": "fa3ad086",
      "metadata": {},
      "source": [
        "**LOCATION**"
      ]
    },
    {
      "cell_type": "code",
      "execution_count": 85,
      "id": "4b14ff2d",
      "metadata": {},
      "outputs": [
        {
          "name": "stdout",
          "output_type": "stream",
          "text": [
            "Total number of unique values:39286\n",
            "\n",
            "Percentage distribution in 'LOCATION':\n",
            "LOCATION\n",
            "600 S  BROADWAY                             0.19\n",
            "800 N  ALAMEDA                      ST      0.18\n",
            "7TH                                         0.18\n",
            "6TH                                         0.17\n",
            "6TH                          ST             0.16\n",
            "                                            ... \n",
            "EDGEWOOD                                    0.00\n",
            "12700    KITTRIDGE                    ST    0.00\n",
            "4100 W  59TH                         ST     0.00\n",
            "11900    DORAL                        AV    0.00\n",
            "7500 W  91ST                         ST     0.00\n",
            "Name: proportion, Length: 39286, dtype: float64\n"
          ]
        }
      ],
      "source": [
        "# Check total number of unique values\n",
        "print(f\"Total number of unique values:{df['LOCATION'].nunique()}\")\n",
        "\n",
        "# Check percentage distribution\n",
        "print(\"\\nPercentage distribution in 'LOCATION':\")\n",
        "print((df['LOCATION'].value_counts(normalize=True, dropna=False) * 100).round(2))\n"
      ]
    },
    {
      "cell_type": "markdown",
      "id": "6d15fbaf",
      "metadata": {},
      "source": [
        "### Final exploration"
      ]
    },
    {
      "cell_type": "code",
      "execution_count": 86,
      "id": "8b640162",
      "metadata": {},
      "outputs": [
        {
          "name": "stdout",
          "output_type": "stream",
          "text": [
            "Number of rows:185715\n",
            "Number of  columns: 16\n"
          ]
        }
      ],
      "source": [
        "# Dataframe shape (Row x Columns)\n",
        "print(f\"Number of rows:{df.shape[0]}\\nNumber of  columns: {df.shape[1]}\")\n"
      ]
    },
    {
      "cell_type": "code",
      "execution_count": 87,
      "id": "3f685df7",
      "metadata": {},
      "outputs": [
        {
          "name": "stdout",
          "output_type": "stream",
          "text": [
            "<class 'pandas.core.frame.DataFrame'>\n",
            "RangeIndex: 185715 entries, 0 to 185714\n",
            "Data columns (total 16 columns):\n",
            " #   Column        Non-Null Count   Dtype         \n",
            "---  ------        --------------   -----         \n",
            " 0   DR_NO         185715 non-null  int64         \n",
            " 1   Date Rptd     185715 non-null  datetime64[ns]\n",
            " 2   DATE OCC      185715 non-null  datetime64[ns]\n",
            " 3   TIME OCC      185715 non-null  object        \n",
            " 4   AREA NAME     185715 non-null  object        \n",
            " 5   Crm Cd Desc   185715 non-null  object        \n",
            " 6   Vict Age      185715 non-null  int64         \n",
            " 7   Vict Sex      185715 non-null  object        \n",
            " 8   Vict Descent  185715 non-null  object        \n",
            " 9   Weapon Desc   185715 non-null  object        \n",
            " 10  Status Desc   185715 non-null  object        \n",
            " 11  LOCATION      185715 non-null  object        \n",
            " 12  Year          185715 non-null  int32         \n",
            " 13  Month         185715 non-null  int32         \n",
            " 14  DayOfWeek     185715 non-null  object        \n",
            " 15  Hour          185715 non-null  int64         \n",
            "dtypes: datetime64[ns](2), int32(2), int64(3), object(9)\n",
            "memory usage: 21.3+ MB\n"
          ]
        }
      ],
      "source": [
        "# General summary\n",
        "df.info()"
      ]
    },
    {
      "cell_type": "code",
      "execution_count": 88,
      "id": "30e174d7",
      "metadata": {},
      "outputs": [
        {
          "data": {
            "application/vnd.microsoft.datawrangler.viewer.v0+json": {
              "columns": [
                {
                  "name": "index",
                  "rawType": "object",
                  "type": "string"
                },
                {
                  "name": "0",
                  "rawType": "bool",
                  "type": "boolean"
                }
              ],
              "ref": "4c16856b-846b-45a2-941d-c6b8e578fc02",
              "rows": [
                [
                  "DR_NO",
                  "False"
                ],
                [
                  "Date Rptd",
                  "False"
                ],
                [
                  "DATE OCC",
                  "False"
                ],
                [
                  "TIME OCC",
                  "False"
                ],
                [
                  "AREA NAME",
                  "False"
                ],
                [
                  "Crm Cd Desc",
                  "False"
                ],
                [
                  "Vict Age",
                  "False"
                ],
                [
                  "Vict Sex",
                  "False"
                ],
                [
                  "Vict Descent",
                  "False"
                ],
                [
                  "Weapon Desc",
                  "False"
                ],
                [
                  "Status Desc",
                  "False"
                ],
                [
                  "LOCATION",
                  "False"
                ],
                [
                  "Year",
                  "False"
                ],
                [
                  "Month",
                  "False"
                ],
                [
                  "DayOfWeek",
                  "False"
                ],
                [
                  "Hour",
                  "False"
                ]
              ],
              "shape": {
                "columns": 1,
                "rows": 16
              }
            },
            "text/plain": [
              "DR_NO           False\n",
              "Date Rptd       False\n",
              "DATE OCC        False\n",
              "TIME OCC        False\n",
              "AREA NAME       False\n",
              "Crm Cd Desc     False\n",
              "Vict Age        False\n",
              "Vict Sex        False\n",
              "Vict Descent    False\n",
              "Weapon Desc     False\n",
              "Status Desc     False\n",
              "LOCATION        False\n",
              "Year            False\n",
              "Month           False\n",
              "DayOfWeek       False\n",
              "Hour            False\n",
              "dtype: bool"
            ]
          },
          "execution_count": 88,
          "metadata": {},
          "output_type": "execute_result"
        }
      ],
      "source": [
        "# Check the presence of missing values\n",
        "df.isna().any()"
      ]
    },
    {
      "cell_type": "code",
      "execution_count": 89,
      "id": "f26258e1",
      "metadata": {},
      "outputs": [
        {
          "name": "stdout",
          "output_type": "stream",
          "text": [
            "DR_NO: 185715 unique values\n",
            "Date Rptd: 398 unique values\n",
            "DATE OCC: 1152 unique values\n",
            "TIME OCC: 1439 unique values\n",
            "AREA NAME: 21 unique values\n",
            "Crm Cd Desc: 104 unique values\n",
            "Vict Age: 98 unique values\n",
            "Vict Sex: 3 unique values\n",
            "Vict Descent: 19 unique values\n",
            "Weapon Desc: 74 unique values\n",
            "Status Desc: 6 unique values\n",
            "LOCATION: 39286 unique values\n",
            "Year: 4 unique values\n",
            "Month: 12 unique values\n",
            "DayOfWeek: 7 unique values\n",
            "Hour: 24 unique values\n"
          ]
        }
      ],
      "source": [
        "# Check total number of unique values per column\n",
        "for col in df.columns:\n",
        "    print(f\"{col}: {df[col].nunique()} unique values\")\n"
      ]
    },
    {
      "cell_type": "code",
      "execution_count": 90,
      "id": "f4154488",
      "metadata": {},
      "outputs": [
        {
          "data": {
            "application/vnd.microsoft.datawrangler.viewer.v0+json": {
              "columns": [
                {
                  "name": "index",
                  "rawType": "int64",
                  "type": "integer"
                },
                {
                  "name": "DR_NO",
                  "rawType": "int64",
                  "type": "integer"
                },
                {
                  "name": "Date Rptd",
                  "rawType": "datetime64[ns]",
                  "type": "datetime"
                },
                {
                  "name": "DATE OCC",
                  "rawType": "datetime64[ns]",
                  "type": "datetime"
                },
                {
                  "name": "TIME OCC",
                  "rawType": "object",
                  "type": "unknown"
                },
                {
                  "name": "AREA NAME",
                  "rawType": "object",
                  "type": "string"
                },
                {
                  "name": "Crm Cd Desc",
                  "rawType": "object",
                  "type": "string"
                },
                {
                  "name": "Vict Age",
                  "rawType": "int64",
                  "type": "integer"
                },
                {
                  "name": "Vict Sex",
                  "rawType": "object",
                  "type": "string"
                },
                {
                  "name": "Vict Descent",
                  "rawType": "object",
                  "type": "string"
                },
                {
                  "name": "Weapon Desc",
                  "rawType": "object",
                  "type": "string"
                },
                {
                  "name": "Status Desc",
                  "rawType": "object",
                  "type": "string"
                },
                {
                  "name": "LOCATION",
                  "rawType": "object",
                  "type": "string"
                },
                {
                  "name": "Year",
                  "rawType": "int32",
                  "type": "integer"
                },
                {
                  "name": "Month",
                  "rawType": "int32",
                  "type": "integer"
                },
                {
                  "name": "DayOfWeek",
                  "rawType": "object",
                  "type": "string"
                },
                {
                  "name": "Hour",
                  "rawType": "int64",
                  "type": "integer"
                }
              ],
              "ref": "c50c00f2-7b78-4ea6-91b2-f1e48d1d8af8",
              "rows": [
                [
                  "0",
                  "220314085",
                  "2022-07-22 00:00:00",
                  "2020-05-12 00:00:00",
                  "11:10:00",
                  "Southwest",
                  "THEFT OF IDENTITY",
                  "27",
                  "F",
                  "B",
                  "UNKNOWN WEAPON/OTHER WEAPON",
                  "Invest Cont",
                  "2500 S  SYCAMORE                     AV",
                  "2020",
                  "5",
                  "Tuesday",
                  "11"
                ],
                [
                  "1",
                  "222013040",
                  "2022-08-06 00:00:00",
                  "2020-06-04 00:00:00",
                  "16:20:00",
                  "Olympic",
                  "THEFT OF IDENTITY",
                  "60",
                  "M",
                  "H",
                  "UNKNOWN WEAPON/OTHER WEAPON",
                  "Invest Cont",
                  "3300    SAN MARINO                   ST",
                  "2020",
                  "6",
                  "Thursday",
                  "16"
                ],
                [
                  "2",
                  "220614831",
                  "2022-08-18 00:00:00",
                  "2020-08-17 00:00:00",
                  "12:00:00",
                  "Hollywood",
                  "THEFT OF IDENTITY",
                  "28",
                  "M",
                  "H",
                  "UNKNOWN WEAPON/OTHER WEAPON",
                  "Invest Cont",
                  "1900    TRANSIENT",
                  "2020",
                  "8",
                  "Monday",
                  "12"
                ],
                [
                  "3",
                  "231207725",
                  "2023-02-27 00:00:00",
                  "2020-01-27 00:00:00",
                  "06:35:00",
                  "77th Street",
                  "THEFT OF IDENTITY",
                  "37",
                  "M",
                  "H",
                  "UNKNOWN WEAPON/OTHER WEAPON",
                  "Invest Cont",
                  "6200    4TH                          AV",
                  "2020",
                  "1",
                  "Monday",
                  "6"
                ],
                [
                  "4",
                  "220213256",
                  "2022-07-14 00:00:00",
                  "2020-07-14 00:00:00",
                  "09:00:00",
                  "Rampart",
                  "THEFT OF IDENTITY",
                  "79",
                  "M",
                  "B",
                  "UNKNOWN WEAPON/OTHER WEAPON",
                  "Invest Cont",
                  "1200 W  7TH                          ST",
                  "2020",
                  "7",
                  "Tuesday",
                  "9"
                ]
              ],
              "shape": {
                "columns": 16,
                "rows": 5
              }
            },
            "text/html": [
              "<div>\n",
              "<style scoped>\n",
              "    .dataframe tbody tr th:only-of-type {\n",
              "        vertical-align: middle;\n",
              "    }\n",
              "\n",
              "    .dataframe tbody tr th {\n",
              "        vertical-align: top;\n",
              "    }\n",
              "\n",
              "    .dataframe thead th {\n",
              "        text-align: right;\n",
              "    }\n",
              "</style>\n",
              "<table border=\"1\" class=\"dataframe\">\n",
              "  <thead>\n",
              "    <tr style=\"text-align: right;\">\n",
              "      <th></th>\n",
              "      <th>DR_NO</th>\n",
              "      <th>Date Rptd</th>\n",
              "      <th>DATE OCC</th>\n",
              "      <th>TIME OCC</th>\n",
              "      <th>AREA NAME</th>\n",
              "      <th>Crm Cd Desc</th>\n",
              "      <th>Vict Age</th>\n",
              "      <th>Vict Sex</th>\n",
              "      <th>Vict Descent</th>\n",
              "      <th>Weapon Desc</th>\n",
              "      <th>Status Desc</th>\n",
              "      <th>LOCATION</th>\n",
              "      <th>Year</th>\n",
              "      <th>Month</th>\n",
              "      <th>DayOfWeek</th>\n",
              "      <th>Hour</th>\n",
              "    </tr>\n",
              "  </thead>\n",
              "  <tbody>\n",
              "    <tr>\n",
              "      <th>0</th>\n",
              "      <td>220314085</td>\n",
              "      <td>2022-07-22</td>\n",
              "      <td>2020-05-12</td>\n",
              "      <td>11:10:00</td>\n",
              "      <td>Southwest</td>\n",
              "      <td>THEFT OF IDENTITY</td>\n",
              "      <td>27</td>\n",
              "      <td>F</td>\n",
              "      <td>B</td>\n",
              "      <td>UNKNOWN WEAPON/OTHER WEAPON</td>\n",
              "      <td>Invest Cont</td>\n",
              "      <td>2500 S  SYCAMORE                     AV</td>\n",
              "      <td>2020</td>\n",
              "      <td>5</td>\n",
              "      <td>Tuesday</td>\n",
              "      <td>11</td>\n",
              "    </tr>\n",
              "    <tr>\n",
              "      <th>1</th>\n",
              "      <td>222013040</td>\n",
              "      <td>2022-08-06</td>\n",
              "      <td>2020-06-04</td>\n",
              "      <td>16:20:00</td>\n",
              "      <td>Olympic</td>\n",
              "      <td>THEFT OF IDENTITY</td>\n",
              "      <td>60</td>\n",
              "      <td>M</td>\n",
              "      <td>H</td>\n",
              "      <td>UNKNOWN WEAPON/OTHER WEAPON</td>\n",
              "      <td>Invest Cont</td>\n",
              "      <td>3300    SAN MARINO                   ST</td>\n",
              "      <td>2020</td>\n",
              "      <td>6</td>\n",
              "      <td>Thursday</td>\n",
              "      <td>16</td>\n",
              "    </tr>\n",
              "    <tr>\n",
              "      <th>2</th>\n",
              "      <td>220614831</td>\n",
              "      <td>2022-08-18</td>\n",
              "      <td>2020-08-17</td>\n",
              "      <td>12:00:00</td>\n",
              "      <td>Hollywood</td>\n",
              "      <td>THEFT OF IDENTITY</td>\n",
              "      <td>28</td>\n",
              "      <td>M</td>\n",
              "      <td>H</td>\n",
              "      <td>UNKNOWN WEAPON/OTHER WEAPON</td>\n",
              "      <td>Invest Cont</td>\n",
              "      <td>1900    TRANSIENT</td>\n",
              "      <td>2020</td>\n",
              "      <td>8</td>\n",
              "      <td>Monday</td>\n",
              "      <td>12</td>\n",
              "    </tr>\n",
              "    <tr>\n",
              "      <th>3</th>\n",
              "      <td>231207725</td>\n",
              "      <td>2023-02-27</td>\n",
              "      <td>2020-01-27</td>\n",
              "      <td>06:35:00</td>\n",
              "      <td>77th Street</td>\n",
              "      <td>THEFT OF IDENTITY</td>\n",
              "      <td>37</td>\n",
              "      <td>M</td>\n",
              "      <td>H</td>\n",
              "      <td>UNKNOWN WEAPON/OTHER WEAPON</td>\n",
              "      <td>Invest Cont</td>\n",
              "      <td>6200    4TH                          AV</td>\n",
              "      <td>2020</td>\n",
              "      <td>1</td>\n",
              "      <td>Monday</td>\n",
              "      <td>6</td>\n",
              "    </tr>\n",
              "    <tr>\n",
              "      <th>4</th>\n",
              "      <td>220213256</td>\n",
              "      <td>2022-07-14</td>\n",
              "      <td>2020-07-14</td>\n",
              "      <td>09:00:00</td>\n",
              "      <td>Rampart</td>\n",
              "      <td>THEFT OF IDENTITY</td>\n",
              "      <td>79</td>\n",
              "      <td>M</td>\n",
              "      <td>B</td>\n",
              "      <td>UNKNOWN WEAPON/OTHER WEAPON</td>\n",
              "      <td>Invest Cont</td>\n",
              "      <td>1200 W  7TH                          ST</td>\n",
              "      <td>2020</td>\n",
              "      <td>7</td>\n",
              "      <td>Tuesday</td>\n",
              "      <td>9</td>\n",
              "    </tr>\n",
              "  </tbody>\n",
              "</table>\n",
              "</div>"
            ],
            "text/plain": [
              "       DR_NO  Date Rptd   DATE OCC  TIME OCC    AREA NAME        Crm Cd Desc  \\\n",
              "0  220314085 2022-07-22 2020-05-12  11:10:00    Southwest  THEFT OF IDENTITY   \n",
              "1  222013040 2022-08-06 2020-06-04  16:20:00      Olympic  THEFT OF IDENTITY   \n",
              "2  220614831 2022-08-18 2020-08-17  12:00:00    Hollywood  THEFT OF IDENTITY   \n",
              "3  231207725 2023-02-27 2020-01-27  06:35:00  77th Street  THEFT OF IDENTITY   \n",
              "4  220213256 2022-07-14 2020-07-14  09:00:00      Rampart  THEFT OF IDENTITY   \n",
              "\n",
              "   Vict Age Vict Sex Vict Descent                  Weapon Desc  Status Desc  \\\n",
              "0        27        F            B  UNKNOWN WEAPON/OTHER WEAPON  Invest Cont   \n",
              "1        60        M            H  UNKNOWN WEAPON/OTHER WEAPON  Invest Cont   \n",
              "2        28        M            H  UNKNOWN WEAPON/OTHER WEAPON  Invest Cont   \n",
              "3        37        M            H  UNKNOWN WEAPON/OTHER WEAPON  Invest Cont   \n",
              "4        79        M            B  UNKNOWN WEAPON/OTHER WEAPON  Invest Cont   \n",
              "\n",
              "                                  LOCATION  Year  Month DayOfWeek  Hour  \n",
              "0  2500 S  SYCAMORE                     AV  2020      5   Tuesday    11  \n",
              "1  3300    SAN MARINO                   ST  2020      6  Thursday    16  \n",
              "2                        1900    TRANSIENT  2020      8    Monday    12  \n",
              "3  6200    4TH                          AV  2020      1    Monday     6  \n",
              "4  1200 W  7TH                          ST  2020      7   Tuesday     9  "
            ]
          },
          "execution_count": 90,
          "metadata": {},
          "output_type": "execute_result"
        }
      ],
      "source": [
        "# Display the first few rows of the dataset\n",
        "df.head()"
      ]
    },
    {
      "cell_type": "code",
      "execution_count": 91,
      "id": "953a9562",
      "metadata": {},
      "outputs": [
        {
          "data": {
            "application/vnd.microsoft.datawrangler.viewer.v0+json": {
              "columns": [
                {
                  "name": "index",
                  "rawType": "object",
                  "type": "string"
                },
                {
                  "name": "DR_NO",
                  "rawType": "float64",
                  "type": "float"
                },
                {
                  "name": "Date Rptd",
                  "rawType": "object",
                  "type": "unknown"
                },
                {
                  "name": "DATE OCC",
                  "rawType": "object",
                  "type": "unknown"
                },
                {
                  "name": "Vict Age",
                  "rawType": "float64",
                  "type": "float"
                },
                {
                  "name": "Year",
                  "rawType": "float64",
                  "type": "float"
                },
                {
                  "name": "Month",
                  "rawType": "float64",
                  "type": "float"
                },
                {
                  "name": "Hour",
                  "rawType": "float64",
                  "type": "float"
                }
              ],
              "ref": "a03a8704-8d62-4a15-a493-90cb9ea468e3",
              "rows": [
                [
                  "count",
                  "185715.0",
                  "185715",
                  "185715",
                  "185715.0",
                  "185715.0",
                  "185715.0",
                  "185715.0"
                ],
                [
                  "mean",
                  "225578132.11017418",
                  "2022-12-12 01:50:25.325902848",
                  "2022-11-27 19:04:55.711170560",
                  "39.9992569259349",
                  "2022.4111138034084",
                  "6.516075707401125",
                  "12.81307918046469"
                ],
                [
                  "min",
                  "200907217.0",
                  "2022-06-01 00:00:00",
                  "2020-01-01 00:00:00",
                  "2.0",
                  "2020.0",
                  "1.0",
                  "0.0"
                ],
                [
                  "25%",
                  "221010755.5",
                  "2022-09-04 00:00:00",
                  "2022-08-25 00:00:00",
                  "28.0",
                  "2022.0",
                  "4.0",
                  "8.0"
                ],
                [
                  "50%",
                  "222011410.0",
                  "2022-12-10 00:00:00",
                  "2022-12-02 00:00:00",
                  "37.0",
                  "2022.0",
                  "6.0",
                  "13.0"
                ],
                [
                  "75%",
                  "231004407.5",
                  "2023-03-20 00:00:00",
                  "2023-03-12 00:00:00",
                  "50.0",
                  "2023.0",
                  "9.0",
                  "18.0"
                ],
                [
                  "max",
                  "239909747.0",
                  "2023-07-03 00:00:00",
                  "2023-07-03 00:00:00",
                  "99.0",
                  "2023.0",
                  "12.0",
                  "23.0"
                ],
                [
                  "std",
                  "5017437.992076425",
                  null,
                  null,
                  "15.45022685173786",
                  "0.5271802958312075",
                  "3.3297241126133295",
                  "6.551455883873502"
                ]
              ],
              "shape": {
                "columns": 7,
                "rows": 8
              }
            },
            "text/html": [
              "<div>\n",
              "<style scoped>\n",
              "    .dataframe tbody tr th:only-of-type {\n",
              "        vertical-align: middle;\n",
              "    }\n",
              "\n",
              "    .dataframe tbody tr th {\n",
              "        vertical-align: top;\n",
              "    }\n",
              "\n",
              "    .dataframe thead th {\n",
              "        text-align: right;\n",
              "    }\n",
              "</style>\n",
              "<table border=\"1\" class=\"dataframe\">\n",
              "  <thead>\n",
              "    <tr style=\"text-align: right;\">\n",
              "      <th></th>\n",
              "      <th>DR_NO</th>\n",
              "      <th>Date Rptd</th>\n",
              "      <th>DATE OCC</th>\n",
              "      <th>Vict Age</th>\n",
              "      <th>Year</th>\n",
              "      <th>Month</th>\n",
              "      <th>Hour</th>\n",
              "    </tr>\n",
              "  </thead>\n",
              "  <tbody>\n",
              "    <tr>\n",
              "      <th>count</th>\n",
              "      <td>1.857150e+05</td>\n",
              "      <td>185715</td>\n",
              "      <td>185715</td>\n",
              "      <td>185715.000000</td>\n",
              "      <td>185715.000000</td>\n",
              "      <td>185715.000000</td>\n",
              "      <td>185715.000000</td>\n",
              "    </tr>\n",
              "    <tr>\n",
              "      <th>mean</th>\n",
              "      <td>2.255781e+08</td>\n",
              "      <td>2022-12-12 01:50:25.325902848</td>\n",
              "      <td>2022-11-27 19:04:55.711170560</td>\n",
              "      <td>39.999257</td>\n",
              "      <td>2022.411114</td>\n",
              "      <td>6.516076</td>\n",
              "      <td>12.813079</td>\n",
              "    </tr>\n",
              "    <tr>\n",
              "      <th>min</th>\n",
              "      <td>2.009072e+08</td>\n",
              "      <td>2022-06-01 00:00:00</td>\n",
              "      <td>2020-01-01 00:00:00</td>\n",
              "      <td>2.000000</td>\n",
              "      <td>2020.000000</td>\n",
              "      <td>1.000000</td>\n",
              "      <td>0.000000</td>\n",
              "    </tr>\n",
              "    <tr>\n",
              "      <th>25%</th>\n",
              "      <td>2.210108e+08</td>\n",
              "      <td>2022-09-04 00:00:00</td>\n",
              "      <td>2022-08-25 00:00:00</td>\n",
              "      <td>28.000000</td>\n",
              "      <td>2022.000000</td>\n",
              "      <td>4.000000</td>\n",
              "      <td>8.000000</td>\n",
              "    </tr>\n",
              "    <tr>\n",
              "      <th>50%</th>\n",
              "      <td>2.220114e+08</td>\n",
              "      <td>2022-12-10 00:00:00</td>\n",
              "      <td>2022-12-02 00:00:00</td>\n",
              "      <td>37.000000</td>\n",
              "      <td>2022.000000</td>\n",
              "      <td>6.000000</td>\n",
              "      <td>13.000000</td>\n",
              "    </tr>\n",
              "    <tr>\n",
              "      <th>75%</th>\n",
              "      <td>2.310044e+08</td>\n",
              "      <td>2023-03-20 00:00:00</td>\n",
              "      <td>2023-03-12 00:00:00</td>\n",
              "      <td>50.000000</td>\n",
              "      <td>2023.000000</td>\n",
              "      <td>9.000000</td>\n",
              "      <td>18.000000</td>\n",
              "    </tr>\n",
              "    <tr>\n",
              "      <th>max</th>\n",
              "      <td>2.399097e+08</td>\n",
              "      <td>2023-07-03 00:00:00</td>\n",
              "      <td>2023-07-03 00:00:00</td>\n",
              "      <td>99.000000</td>\n",
              "      <td>2023.000000</td>\n",
              "      <td>12.000000</td>\n",
              "      <td>23.000000</td>\n",
              "    </tr>\n",
              "    <tr>\n",
              "      <th>std</th>\n",
              "      <td>5.017438e+06</td>\n",
              "      <td>NaN</td>\n",
              "      <td>NaN</td>\n",
              "      <td>15.450227</td>\n",
              "      <td>0.527180</td>\n",
              "      <td>3.329724</td>\n",
              "      <td>6.551456</td>\n",
              "    </tr>\n",
              "  </tbody>\n",
              "</table>\n",
              "</div>"
            ],
            "text/plain": [
              "              DR_NO                      Date Rptd  \\\n",
              "count  1.857150e+05                         185715   \n",
              "mean   2.255781e+08  2022-12-12 01:50:25.325902848   \n",
              "min    2.009072e+08            2022-06-01 00:00:00   \n",
              "25%    2.210108e+08            2022-09-04 00:00:00   \n",
              "50%    2.220114e+08            2022-12-10 00:00:00   \n",
              "75%    2.310044e+08            2023-03-20 00:00:00   \n",
              "max    2.399097e+08            2023-07-03 00:00:00   \n",
              "std    5.017438e+06                            NaN   \n",
              "\n",
              "                            DATE OCC       Vict Age           Year  \\\n",
              "count                         185715  185715.000000  185715.000000   \n",
              "mean   2022-11-27 19:04:55.711170560      39.999257    2022.411114   \n",
              "min              2020-01-01 00:00:00       2.000000    2020.000000   \n",
              "25%              2022-08-25 00:00:00      28.000000    2022.000000   \n",
              "50%              2022-12-02 00:00:00      37.000000    2022.000000   \n",
              "75%              2023-03-12 00:00:00      50.000000    2023.000000   \n",
              "max              2023-07-03 00:00:00      99.000000    2023.000000   \n",
              "std                              NaN      15.450227       0.527180   \n",
              "\n",
              "               Month           Hour  \n",
              "count  185715.000000  185715.000000  \n",
              "mean        6.516076      12.813079  \n",
              "min         1.000000       0.000000  \n",
              "25%         4.000000       8.000000  \n",
              "50%         6.000000      13.000000  \n",
              "75%         9.000000      18.000000  \n",
              "max        12.000000      23.000000  \n",
              "std         3.329724       6.551456  "
            ]
          },
          "execution_count": 91,
          "metadata": {},
          "output_type": "execute_result"
        }
      ],
      "source": [
        "# Statistical summary of numerical columns\n",
        "df.describe()"
      ]
    },
    {
      "cell_type": "code",
      "execution_count": 92,
      "id": "6ae20721",
      "metadata": {},
      "outputs": [
        {
          "name": "stdout",
          "output_type": "stream",
          "text": [
            "Operation completed successfully ✅\n"
          ]
        }
      ],
      "source": [
        "### Save the cleaned dataset\n",
        "df.to_csv(\"src/crimes_cleaned.csv\", index=False)\n",
        "\n",
        "print(\"Operation completed successfully ✅\")"
      ]
    },
    {
      "cell_type": "markdown",
      "id": "1c857357",
      "metadata": {},
      "source": [
        "## Load cleaned data"
      ]
    },
    {
      "cell_type": "code",
      "execution_count": 93,
      "id": "e2b46d17",
      "metadata": {},
      "outputs": [
        {
          "name": "stdout",
          "output_type": "stream",
          "text": [
            "Operation completed successfully ✅\n"
          ]
        }
      ],
      "source": [
        "# Load dataset\n",
        "crimes = pd.read_csv(\"src/crimes_cleaned.csv\")\n",
        "\n",
        "print(\"Operation completed successfully ✅\")"
      ]
    },
    {
      "cell_type": "markdown",
      "id": "89bd1442",
      "metadata": {},
      "source": [
        "**Overview**\n",
        "- The dataset contains 185,715 crime records in Los Angeles.\n",
        "- Columns include crime details, victim info, weapon used, and timestamps.\n",
        "- Data types are cleaned and missing values handled."
      ]
    },
    {
      "cell_type": "code",
      "execution_count": 94,
      "id": "e585fae0",
      "metadata": {},
      "outputs": [
        {
          "name": "stdout",
          "output_type": "stream",
          "text": [
            "<class 'pandas.core.frame.DataFrame'>\n",
            "RangeIndex: 185715 entries, 0 to 185714\n",
            "Data columns (total 16 columns):\n",
            " #   Column        Non-Null Count   Dtype \n",
            "---  ------        --------------   ----- \n",
            " 0   DR_NO         185715 non-null  int64 \n",
            " 1   Date Rptd     185715 non-null  object\n",
            " 2   DATE OCC      185715 non-null  object\n",
            " 3   TIME OCC      185715 non-null  object\n",
            " 4   AREA NAME     185715 non-null  object\n",
            " 5   Crm Cd Desc   185715 non-null  object\n",
            " 6   Vict Age      185715 non-null  int64 \n",
            " 7   Vict Sex      185715 non-null  object\n",
            " 8   Vict Descent  185715 non-null  object\n",
            " 9   Weapon Desc   185715 non-null  object\n",
            " 10  Status Desc   185715 non-null  object\n",
            " 11  LOCATION      185715 non-null  object\n",
            " 12  Year          185715 non-null  int64 \n",
            " 13  Month         185715 non-null  int64 \n",
            " 14  DayOfWeek     185715 non-null  object\n",
            " 15  Hour          185715 non-null  int64 \n",
            "dtypes: int64(5), object(11)\n",
            "memory usage: 22.7+ MB\n"
          ]
        }
      ],
      "source": [
        "# Summary of the dataset\n",
        "crimes.info()"
      ]
    },
    {
      "cell_type": "markdown",
      "id": "8debaaa8",
      "metadata": {},
      "source": [
        "## Features Analysis\n",
        "In this section, we explore key features such as victim demographics, crime types, areas, and time patterns. "
      ]
    },
    {
      "cell_type": "markdown",
      "id": "de708b68",
      "metadata": {},
      "source": [
        "### Analyze Temporal Trends\n",
        "- Visualize crime trends over years, months, and hours.\n",
        "- Identify peak crime periods for deeper analysis."
      ]
    },
    {
      "cell_type": "code",
      "execution_count": 95,
      "id": "a8771af6",
      "metadata": {},
      "outputs": [
        {
          "data": {
            "image/png": "[encoded data removed]",
            "text/plain": [
              "<Figure size 640x480 with 1 Axes>"
            ]
          },
          "metadata": {},
          "output_type": "display_data"
        }
      ],
      "source": [
        "# Crimes by Year\n",
        "sns.countplot(x='Year', data=crimes, hue= 'Year', palette='husl', legend=False)\n",
        "plt.ylabel(\"Number of Crimes\")\n",
        "plt.title(\"Crimes by Year\")\n",
        "plt.show()"
      ]
    },
    {
      "cell_type": "code",
      "execution_count": 96,
      "id": "72c8db73",
      "metadata": {},
      "outputs": [
        {
          "data": {
            "image/png": "[encoded data removed]",
            "text/plain": [
              "<Figure size 640x480 with 1 Axes>"
            ]
          },
          "metadata": {},
          "output_type": "display_data"
        }
      ],
      "source": [
        "# Crimes by Month\n",
        "sns.countplot(x='Month', data=crimes)\n",
        "plt.ylabel(\"Number of Crimes\")\n",
        "plt.title(\"Crimes by Month\")\n",
        "plt.show()"
      ]
    },
    {
      "cell_type": "code",
      "execution_count": 97,
      "id": "b1ca3e48",
      "metadata": {},
      "outputs": [
        {
          "data": {
            "image/png": "[encoded data removed]",
            "text/plain": [
              "<Figure size 640x480 with 1 Axes>"
            ]
          },
          "metadata": {},
          "output_type": "display_data"
        }
      ],
      "source": [
        "# Crimes by Day\n",
        "sns.countplot(x='DayOfWeek', data=crimes, hue='DayOfWeek', palette='husl', legend=False)\n",
        "plt.xlabel(\"Day of Week\")\n",
        "plt.ylabel(\"Number of Crimes\")\n",
        "plt.title(\"Crimes by Day\")\n",
        "plt.show()"
      ]
    },
    {
      "cell_type": "code",
      "execution_count": 98,
      "id": "49a16b43",
      "metadata": {},
      "outputs": [
        {
          "data": {
            "image/png": "[encoded data removed]",
            "text/plain": [
              "<Figure size 640x480 with 1 Axes>"
            ]
          },
          "metadata": {},
          "output_type": "display_data"
        }
      ],
      "source": [
        "# Crimes by Hour\n",
        "sns.countplot(x='Hour', data=crimes)\n",
        "plt.ylabel(\"Number of Crimes\")\n",
        "plt.title(\"Crimes by Hour\")\n",
        "plt.show()"
      ]
    },
    {
      "cell_type": "markdown",
      "id": "ba30ee87",
      "metadata": {},
      "source": [
        "### Analyze Crime by Area\n",
        "- Identify neighborhoods with high crime rates.\n",
        "- Useful for local safety insights."
      ]
    },
    {
      "cell_type": "code",
      "execution_count": 99,
      "id": "46c8de75",
      "metadata": {},
      "outputs": [
        {
          "data": {
            "image/png": "[encoded data removed]",
            "text/plain": [
              "<Figure size 640x480 with 1 Axes>"
            ]
          },
          "metadata": {},
          "output_type": "display_data"
        }
      ],
      "source": [
        "# Top 10 areas with most crimes\n",
        "top_areas = crimes['AREA NAME'].value_counts().head(10)\n",
        "sns.barplot(x=top_areas.values, y=top_areas.index)\n",
        "plt.xlabel(\"Number of Crimes\")\n",
        "plt.ylabel(\"Area Name\")\n",
        "plt.title(\"Top 10 Areas with Most Crimes\")\n",
        "plt.show()\n"
      ]
    },
    {
      "cell_type": "code",
      "execution_count": 100,
      "id": "8e3604d3",
      "metadata": {},
      "outputs": [
        {
          "data": {
            "image/png": "[encoded data removed]",
            "text/plain": [
              "<Figure size 640x480 with 1 Axes>"
            ]
          },
          "metadata": {},
          "output_type": "display_data"
        }
      ],
      "source": [
        "# Top 10 areas with less crimes\n",
        "bottom_areas = crimes['AREA NAME'].value_counts().tail(10)\n",
        "sns.barplot(x=bottom_areas.values, y=bottom_areas.index)\n",
        "plt.xlabel(\"Number of Crimes\")\n",
        "plt.ylabel(\"Area Name\")\n",
        "plt.title(\"Top 10 Areas with Less Crimes\")\n",
        "plt.show()"
      ]
    },
    {
      "cell_type": "markdown",
      "id": "e8e1e38a",
      "metadata": {},
      "source": [
        "### Analyze Crime Type\n",
        "- Examine most frequent types of crimes.\n",
        "- Can help prioritize law enforcement efforts."
      ]
    },
    {
      "cell_type": "code",
      "execution_count": 101,
      "id": "bdfa2de2",
      "metadata": {},
      "outputs": [
        {
          "data": {
            "image/png": "[encoded data removed]",
            "text/plain": [
              "<Figure size 640x480 with 1 Axes>"
            ]
          },
          "metadata": {},
          "output_type": "display_data"
        }
      ],
      "source": [
        "# Top 10 Crime Types\n",
        "top_crimes = crimes['Crm Cd Desc'].value_counts().head(10)\n",
        "sns.barplot(x=top_crimes.values, y=top_crimes.index)\n",
        "plt.xlabel(\"Number of Crimes\")\n",
        "plt.ylabel(\"Crime Type\")\n",
        "plt.title(\"Top 10 Crime Types\")\n",
        "plt.show()\n"
      ]
    },
    {
      "cell_type": "markdown",
      "id": "74b72ed9",
      "metadata": {},
      "source": [
        "### Victim Analysis\n",
        "- Explore demographic characteristics of victims (Sex, Descent, Age).\n",
        "- Identify any patterns or disparities."
      ]
    },
    {
      "cell_type": "markdown",
      "id": "95ae7d54",
      "metadata": {},
      "source": [
        "#### Distribution by Sex"
      ]
    },
    {
      "cell_type": "code",
      "execution_count": null,
      "id": "f394b4bf",
      "metadata": {},
      "outputs": [
        {
          "data": {
            "image/png": "[encoded data removed]",
            "text/plain": [
              "<Figure size 800x800 with 1 Axes>"
            ]
          },
          "metadata": {},
          "output_type": "display_data"
        }
      ],
      "source": [
        "# Calculate the value counts and percentages\n",
        "sex_counts = crimes['Vict Sex'].value_counts()\n",
        "sex_percentages = crimes['Vict Sex'].value_counts(normalize=True) * 100\n",
        "\n",
        "# Create a pie chart\n",
        "plt.figure(figsize=(8, 8))\n",
        "plt.pie(\n",
        "    sex_counts,\n",
        "    labels=sex_counts.index,\n",
        "    autopct='%1.1f%%',\n",
        "    colors=sns.color_palette('pastel'), \n",
        ")\n",
        "\n",
        "# Add a title\n",
        "plt.title(\"Victim Sex Distribution (Percentage)\", fontsize=16, pad=20)\n",
        "\n",
        "# Equal aspect ratio ensures the pie chart is circular\n",
        "plt.axis('equal')\n",
        "\n",
        "# Show the plot\n",
        "plt.show()"
      ]
    },
    {
      "cell_type": "markdown",
      "id": "6eb37e96",
      "metadata": {},
      "source": [
        "#### Distribution by Descent"
      ]
    },
    {
      "cell_type": "code",
      "execution_count": null,
      "id": "0dae73b3",
      "metadata": {},
      "outputs": [
        {
          "data": {
            "image/png": "[encoded data removed]",
            "text/plain": [
              "<Figure size 640x480 with 1 Axes>"
            ]
          },
          "metadata": {},
          "output_type": "display_data"
        }
      ],
      "source": [
        "top_descent = crimes['Vict Descent'].value_counts()\n",
        "sns.barplot(x=top_descent.values, y=top_descent.index)\n",
        "plt.xlabel(\"Number of Crimes\")\n",
        "plt.ylabel(\"Victim Descent\")\n",
        "plt.title(\"Victim Descent Distribution\")\n",
        "plt.show()"
      ]
    },
    {
      "cell_type": "markdown",
      "id": "f816d329",
      "metadata": {},
      "source": [
        "#### Age distribution"
      ]
    },
    {
      "cell_type": "code",
      "execution_count": null,
      "id": "0749590a",
      "metadata": {},
      "outputs": [
        {
          "data": {
            "image/png": "[encoded data removed]",
            "text/plain": [
              "<Figure size 640x480 with 1 Axes>"
            ]
          },
          "metadata": {},
          "output_type": "display_data"
        }
      ],
      "source": [
        "sns.histplot(crimes['Vict Age'], bins=20, kde=True)\n",
        "plt.xlabel(\"Age\")\n",
        "plt.ylabel(\"Number of Crimes\")\n",
        "plt.title(\"Victim Age Distribution\")\n",
        "plt.show()"
      ]
    },
    {
      "cell_type": "markdown",
      "id": "dd7c7701",
      "metadata": {},
      "source": [
        "**Distribution by age groupe**"
      ]
    },
    {
      "cell_type": "code",
      "execution_count": 107,
      "id": "1bc1f863",
      "metadata": {},
      "outputs": [
        {
          "name": "stdout",
          "output_type": "stream",
          "text": [
            "Operation completed successfully ✅\n"
          ]
        }
      ],
      "source": [
        "# Age group definition\n",
        "bins = [0, 12, 18, 30, 45, 60, 100]\n",
        "labels = ['Child (0-12)', 'Teen (13-18)', 'Young Adult (19-30)', 'Adult (31-45)', 'Middle Age (46-60)', 'Senior (60+)']\n",
        "\n",
        "\n",
        "crimes['Age Group'] = pd.cut(crimes['Vict Age'], bins=bins, labels=labels, right=False)\n",
        "\n",
        "\n",
        "print(\"Operation completed successfully ✅\")\n"
      ]
    },
    {
      "cell_type": "code",
      "execution_count": 108,
      "id": "2b8cddb9",
      "metadata": {},
      "outputs": [
        {
          "data": {
            "image/png": "[encoded data removed]",
            "text/plain": [
              "<Figure size 1000x600 with 1 Axes>"
            ]
          },
          "metadata": {},
          "output_type": "display_data"
        }
      ],
      "source": [
        "# Visualization of crimes by age group\n",
        "\n",
        "plt.figure(figsize=(10,6))\n",
        "sns.countplot(x='Age Group', data=crimes, hue='Age Group', palette='husl', order=labels)\n",
        "plt.title(\"Crimes by Victim Age Group\")\n",
        "plt.xlabel(\"Age Group\")\n",
        "plt.ylabel(\"Number of Crimes\")\n",
        "plt.xticks(rotation=30)\n",
        "plt.show()\n"
      ]
    },
    {
      "cell_type": "markdown",
      "id": "f978e186",
      "metadata": {},
      "source": [
        "## Cross-Feature Analysis\n",
        "In this section, we explore relationships between key features such as victim demographics, crime types, areas, and time patterns.  \n",
        "The goal is to uncover trends that may explain when and where crimes occur most frequently, and which demographic groups are most affected.\n"
      ]
    },
    {
      "cell_type": "markdown",
      "id": "e93dddf3",
      "metadata": {},
      "source": [
        "### Crimes by Area and Year"
      ]
    },
    {
      "cell_type": "code",
      "execution_count": 119,
      "id": "c730e441",
      "metadata": {},
      "outputs": [
        {
          "data": {
            "image/png": "[encoded data removed]",
            "text/plain": [
              "<Figure size 1200x600 with 1 Axes>"
            ]
          },
          "metadata": {},
          "output_type": "display_data"
        }
      ],
      "source": [
        "plt.figure(figsize=(12,6))\n",
        "# Assign specific colors for each year\n",
        "year_colors = {\n",
        "    2019: \"#d62728\",  # Red\n",
        "    2020: \"#9467bd\",  # Orange\n",
        "    2021: \"#2ca02c\",  # Green\n",
        "    2022: \"#1f77b4\",  # Blue\n",
        "    2023: \"#ff7f0e\"   # Purple\n",
        "}\n",
        "\n",
        "sns.countplot(x='AREA NAME', hue='Year', data=crimes, palette=year_colors)\n",
        "plt.xlabel(\"Area Name\")\n",
        "plt.ylabel(\"Number of Crimes\")\n",
        "plt.title(\"Crimes by Area and Year\")\n",
        "plt.xticks(rotation=45)\n",
        "plt.show()\n"
      ]
    },
    {
      "cell_type": "markdown",
      "id": "b830ee9e",
      "metadata": {},
      "source": [
        "### Crimes by Age Group and Sex"
      ]
    },
    {
      "cell_type": "code",
      "execution_count": 121,
      "id": "39057214",
      "metadata": {},
      "outputs": [
        {
          "data": {
            "image/png": "[encoded data removed]",
            "text/plain": [
              "<Figure size 1000x600 with 1 Axes>"
            ]
          },
          "metadata": {},
          "output_type": "display_data"
        }
      ],
      "source": [
        "plt.figure(figsize=(10,6))\n",
        "sns.countplot(x='Age Group', hue='Vict Sex', data=crimes, palette='husl')\n",
        "plt.xlabel(\"Age Group\")\n",
        "plt.ylabel(\"Number of Crimes\")\n",
        "plt.title(\"Crimes by Victim Age Group and Sex\")\n",
        "plt.xticks(rotation=30)\n",
        "plt.show()\n"
      ]
    }
  ],
  "metadata": {
    "colab": {
      "name": "Welcome to DataCamp Workspaces.ipynb",
      "provenance": []
    },
    "kernelspec": {
      "display_name": "Python 3",
      "language": "python",
      "name": "python3"
    },
    "language_info": {
      "codemirror_mode": {
        "name": "ipython",
        "version": 3
      },
      "file_extension": ".py",
      "mimetype": "text/x-python",
      "name": "python",
      "nbconvert_exporter": "python",
      "pygments_lexer": "ipython3",
      "version": "3.13.5"
    }
  },
  "nbformat": 4,
  "nbformat_minor": 5
}
